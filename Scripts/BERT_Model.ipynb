{
 "cells": [
  {
   "cell_type": "markdown",
   "metadata": {},
   "source": [
    "## BERT Model"
   ]
  },
  {
   "cell_type": "code",
   "execution_count": null,
   "metadata": {},
   "outputs": [],
   "source": [
    "# Load pre-trained model and tokenizer\n",
    "model_name = 'nlptown/bert-base-multilingual-uncased-sentiment'\n",
    "tokenizer = BertTokenizer.from_pretrained(model_name)\n",
    "model = BertForSequenceClassification.from_pretrained(model_name)"
   ]
  },
  {
   "cell_type": "code",
   "execution_count": null,
   "metadata": {},
   "outputs": [],
   "source": [
    "# Function to get logits for each sentence\n",
    "def get_logits(text):\n",
    "    inputs = tokenizer(text, return_tensors='pt', truncation=True, padding=True)\n",
    "    outputs = model(**inputs)\n",
    "    logits = outputs.logits.detach().numpy()[0]\n",
    "    return logits\n",
    "\n",
    "# Calculate sentiment for each sentence and then average for each article\n",
    "def calculate_sentiment(sentences):\n",
    "    sentiments = []\n",
    "    for sentence in sentences:\n",
    "        logits = get_logits(sentence)\n",
    "        sentiment = logits[4] - logits[0]  # Assuming logits[4] is for positive and logits[0] is for negative\n",
    "        sentiments.append(sentiment)\n",
    "    return sum(sentiments) / len(sentiments) if sentiments else 0\n",
    "\n",
    "df['Sentiment Score'] = df['Sentences'].apply(calculate_sentiment)\n",
    "\n",
    "# Display the first 10 rows with sentiment scores\n",
    "df.head(10)"
   ]
  },
  {
   "cell_type": "code",
   "execution_count": null,
   "metadata": {},
   "outputs": [],
   "source": [
    "#Data split \n",
    "# Split data into training, validation, and test sets\n",
    "train_df, temp_df = train_test_split(df, test_size=0.3, random_state=42)\n",
    "val_df, test_df = train_test_split(temp_df, test_size=0.5, random_state=42)\n",
    "\n",
    "# Display the number of samples in each set\n",
    "print(f\"Training set: {len(train_df)} samples\")\n",
    "print(f\"Validation set: {len(val_df)} samples\")\n",
    "print(f\"Test set: {len(test_df)} samples\")\n",
    "\n",
    "# Print percentage split\n",
    "total_samples = len(df)\n",
    "train_percentage = (len(train_df) / total_samples) * 100\n",
    "val_percentage = (len(val_df) / total_samples) * 100\n",
    "test_percentage = (len(test_df) / total_samples) * 100\n",
    "\n",
    "print(f\"Training set: {train_percentage:.2f}%\")\n",
    "print(f\"Validation set: {val_percentage:.2f}%\")\n",
    "print(f\"Test set: {test_percentage:.2f}%\")\n"
   ]
  }
 ],
 "metadata": {
  "language_info": {
   "name": "python"
  }
 },
 "nbformat": 4,
 "nbformat_minor": 2
}
